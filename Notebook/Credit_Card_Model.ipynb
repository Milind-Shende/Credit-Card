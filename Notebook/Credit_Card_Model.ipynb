{
 "cells": [
  {
   "cell_type": "code",
   "execution_count": 1,
   "metadata": {
    "id": "m5Dtj6tkHdf4"
   },
   "outputs": [],
   "source": [
    "import pandas as pd\n",
    "import numpy as np\n",
    "import seaborn as sns\n",
    "import matplotlib.pyplot as plt\n",
    "%matplotlib inline\n",
    "import warnings\n",
    "warnings.filterwarnings('ignore')\n",
    "from statistics import mean\n",
    "from sklearn.preprocessing import PowerTransformer\n",
    "from sklearn.preprocessing import LabelEncoder\n",
    "from sklearn.pipeline import Pipeline\n",
    "from sklearn.linear_model import LogisticRegression\n",
    "from sklearn.ensemble import RandomForestClassifier, AdaBoostClassifier, GradientBoostingClassifier\n",
    "from sklearn.neighbors import KNeighborsClassifier\n",
    "from sklearn.tree import DecisionTreeClassifier\n",
    "from sklearn.svm import SVC\n",
    "from sklearn.metrics import accuracy_score, classification_report,ConfusionMatrixDisplay, \\\n",
    "                            precision_score, recall_score, f1_score, roc_auc_score,roc_curve,confusion_matrix\n",
    "\n",
    "from sklearn.model_selection import  train_test_split, RepeatedStratifiedKFold, cross_val_score\n",
    "from sklearn.preprocessing import OneHotEncoder, MinMaxScaler\n",
    "from sklearn.compose import ColumnTransformer\n",
    "from sklearn.impute import SimpleImputer, KNNImputer\n",
    "from xgboost import XGBClassifier\n",
    "from sklearn.preprocessing import StandardScaler, MinMaxScaler,RobustScaler\n",
    "\n",
    "from imblearn.combine import SMOTETomek\n",
    "from sklearn.model_selection import GridSearchCV\n",
    "from sklearn import metrics\n",
    "from sklearn.naive_bayes import GaussianNB\n",
    "from sklearn.cluster import KMeans\n",
    "from sklearn.model_selection import cross_val_score\n",
    "from sklearn.svm import SVC"
   ]
  },
  {
   "cell_type": "code",
   "execution_count": 2,
   "metadata": {
    "id": "EgITlJzsHwE_"
   },
   "outputs": [],
   "source": [
    "df=pd.read_csv(\"https://raw.githubusercontent.com/Milind-Shende/Credit-Card/main/Notebook/UCI_Credit_Card.csv\")"
   ]
  },
  {
   "cell_type": "code",
   "execution_count": 3,
   "metadata": {
    "colab": {
     "base_uri": "https://localhost:8080/",
     "height": 299
    },
    "id": "ul5cgLcbHwOV",
    "outputId": "01b1c24e-5dec-4b33-fa43-2659a893b2a5"
   },
   "outputs": [
    {
     "data": {
      "text/html": [
       "<div>\n",
       "<style scoped>\n",
       "    .dataframe tbody tr th:only-of-type {\n",
       "        vertical-align: middle;\n",
       "    }\n",
       "\n",
       "    .dataframe tbody tr th {\n",
       "        vertical-align: top;\n",
       "    }\n",
       "\n",
       "    .dataframe thead th {\n",
       "        text-align: right;\n",
       "    }\n",
       "</style>\n",
       "<table border=\"1\" class=\"dataframe\">\n",
       "  <thead>\n",
       "    <tr style=\"text-align: right;\">\n",
       "      <th></th>\n",
       "      <th>ID</th>\n",
       "      <th>LIMIT_BAL</th>\n",
       "      <th>SEX</th>\n",
       "      <th>EDUCATION</th>\n",
       "      <th>MARRIAGE</th>\n",
       "      <th>AGE</th>\n",
       "      <th>PAY_0</th>\n",
       "      <th>PAY_2</th>\n",
       "      <th>PAY_3</th>\n",
       "      <th>PAY_4</th>\n",
       "      <th>...</th>\n",
       "      <th>BILL_AMT4</th>\n",
       "      <th>BILL_AMT5</th>\n",
       "      <th>BILL_AMT6</th>\n",
       "      <th>PAY_AMT1</th>\n",
       "      <th>PAY_AMT2</th>\n",
       "      <th>PAY_AMT3</th>\n",
       "      <th>PAY_AMT4</th>\n",
       "      <th>PAY_AMT5</th>\n",
       "      <th>PAY_AMT6</th>\n",
       "      <th>default.payment.next.month</th>\n",
       "    </tr>\n",
       "  </thead>\n",
       "  <tbody>\n",
       "    <tr>\n",
       "      <th>0</th>\n",
       "      <td>1</td>\n",
       "      <td>20000.0</td>\n",
       "      <td>2</td>\n",
       "      <td>2</td>\n",
       "      <td>1</td>\n",
       "      <td>24</td>\n",
       "      <td>2</td>\n",
       "      <td>2</td>\n",
       "      <td>-1</td>\n",
       "      <td>-1</td>\n",
       "      <td>...</td>\n",
       "      <td>0.0</td>\n",
       "      <td>0.0</td>\n",
       "      <td>0.0</td>\n",
       "      <td>0.0</td>\n",
       "      <td>689.0</td>\n",
       "      <td>0.0</td>\n",
       "      <td>0.0</td>\n",
       "      <td>0.0</td>\n",
       "      <td>0.0</td>\n",
       "      <td>1</td>\n",
       "    </tr>\n",
       "    <tr>\n",
       "      <th>1</th>\n",
       "      <td>2</td>\n",
       "      <td>120000.0</td>\n",
       "      <td>2</td>\n",
       "      <td>2</td>\n",
       "      <td>2</td>\n",
       "      <td>26</td>\n",
       "      <td>-1</td>\n",
       "      <td>2</td>\n",
       "      <td>0</td>\n",
       "      <td>0</td>\n",
       "      <td>...</td>\n",
       "      <td>3272.0</td>\n",
       "      <td>3455.0</td>\n",
       "      <td>3261.0</td>\n",
       "      <td>0.0</td>\n",
       "      <td>1000.0</td>\n",
       "      <td>1000.0</td>\n",
       "      <td>1000.0</td>\n",
       "      <td>0.0</td>\n",
       "      <td>2000.0</td>\n",
       "      <td>1</td>\n",
       "    </tr>\n",
       "    <tr>\n",
       "      <th>2</th>\n",
       "      <td>3</td>\n",
       "      <td>90000.0</td>\n",
       "      <td>2</td>\n",
       "      <td>2</td>\n",
       "      <td>2</td>\n",
       "      <td>34</td>\n",
       "      <td>0</td>\n",
       "      <td>0</td>\n",
       "      <td>0</td>\n",
       "      <td>0</td>\n",
       "      <td>...</td>\n",
       "      <td>14331.0</td>\n",
       "      <td>14948.0</td>\n",
       "      <td>15549.0</td>\n",
       "      <td>1518.0</td>\n",
       "      <td>1500.0</td>\n",
       "      <td>1000.0</td>\n",
       "      <td>1000.0</td>\n",
       "      <td>1000.0</td>\n",
       "      <td>5000.0</td>\n",
       "      <td>0</td>\n",
       "    </tr>\n",
       "    <tr>\n",
       "      <th>3</th>\n",
       "      <td>4</td>\n",
       "      <td>50000.0</td>\n",
       "      <td>2</td>\n",
       "      <td>2</td>\n",
       "      <td>1</td>\n",
       "      <td>37</td>\n",
       "      <td>0</td>\n",
       "      <td>0</td>\n",
       "      <td>0</td>\n",
       "      <td>0</td>\n",
       "      <td>...</td>\n",
       "      <td>28314.0</td>\n",
       "      <td>28959.0</td>\n",
       "      <td>29547.0</td>\n",
       "      <td>2000.0</td>\n",
       "      <td>2019.0</td>\n",
       "      <td>1200.0</td>\n",
       "      <td>1100.0</td>\n",
       "      <td>1069.0</td>\n",
       "      <td>1000.0</td>\n",
       "      <td>0</td>\n",
       "    </tr>\n",
       "    <tr>\n",
       "      <th>4</th>\n",
       "      <td>5</td>\n",
       "      <td>50000.0</td>\n",
       "      <td>1</td>\n",
       "      <td>2</td>\n",
       "      <td>1</td>\n",
       "      <td>57</td>\n",
       "      <td>-1</td>\n",
       "      <td>0</td>\n",
       "      <td>-1</td>\n",
       "      <td>0</td>\n",
       "      <td>...</td>\n",
       "      <td>20940.0</td>\n",
       "      <td>19146.0</td>\n",
       "      <td>19131.0</td>\n",
       "      <td>2000.0</td>\n",
       "      <td>36681.0</td>\n",
       "      <td>10000.0</td>\n",
       "      <td>9000.0</td>\n",
       "      <td>689.0</td>\n",
       "      <td>679.0</td>\n",
       "      <td>0</td>\n",
       "    </tr>\n",
       "  </tbody>\n",
       "</table>\n",
       "<p>5 rows × 25 columns</p>\n",
       "</div>"
      ],
      "text/plain": [
       "   ID  LIMIT_BAL  SEX  EDUCATION  MARRIAGE  AGE  PAY_0  PAY_2  PAY_3  PAY_4  \\\n",
       "0   1    20000.0    2          2         1   24      2      2     -1     -1   \n",
       "1   2   120000.0    2          2         2   26     -1      2      0      0   \n",
       "2   3    90000.0    2          2         2   34      0      0      0      0   \n",
       "3   4    50000.0    2          2         1   37      0      0      0      0   \n",
       "4   5    50000.0    1          2         1   57     -1      0     -1      0   \n",
       "\n",
       "   ...  BILL_AMT4  BILL_AMT5  BILL_AMT6  PAY_AMT1  PAY_AMT2  PAY_AMT3  \\\n",
       "0  ...        0.0        0.0        0.0       0.0     689.0       0.0   \n",
       "1  ...     3272.0     3455.0     3261.0       0.0    1000.0    1000.0   \n",
       "2  ...    14331.0    14948.0    15549.0    1518.0    1500.0    1000.0   \n",
       "3  ...    28314.0    28959.0    29547.0    2000.0    2019.0    1200.0   \n",
       "4  ...    20940.0    19146.0    19131.0    2000.0   36681.0   10000.0   \n",
       "\n",
       "   PAY_AMT4  PAY_AMT5  PAY_AMT6  default.payment.next.month  \n",
       "0       0.0       0.0       0.0                           1  \n",
       "1    1000.0       0.0    2000.0                           1  \n",
       "2    1000.0    1000.0    5000.0                           0  \n",
       "3    1100.0    1069.0    1000.0                           0  \n",
       "4    9000.0     689.0     679.0                           0  \n",
       "\n",
       "[5 rows x 25 columns]"
      ]
     },
     "execution_count": 3,
     "metadata": {},
     "output_type": "execute_result"
    }
   ],
   "source": [
    "df.head()"
   ]
  },
  {
   "cell_type": "code",
   "execution_count": 4,
   "metadata": {
    "id": "WzmWjD0SeEHo"
   },
   "outputs": [],
   "source": [
    "#Dropping Of ID Column\n",
    "df.drop('ID',axis=1,inplace=True)"
   ]
  },
  {
   "cell_type": "code",
   "execution_count": 5,
   "metadata": {
    "id": "EqhfNIZHeDra"
   },
   "outputs": [],
   "source": [
    "df.rename(columns={'PAY_0':'PAY_1'},inplace=True)\n",
    "df.rename(columns={\"default.payment.next.month\":\"Default\"},inplace=True)"
   ]
  },
  {
   "cell_type": "code",
   "execution_count": 6,
   "metadata": {
    "id": "T5Lufp6o5-zs"
   },
   "outputs": [],
   "source": [
    "df['MARRIAGE'].replace({0:3},inplace=True)\n",
    "df['EDUCATION'].replace({0:4,5:4,6:4},inplace=True)\n",
    "df['Default'].replace({0:'No',1:'Yes'},inplace=True)"
   ]
  },
  {
   "cell_type": "code",
   "execution_count": 7,
   "metadata": {
    "id": "w2UGwQtb5-kg"
   },
   "outputs": [],
   "source": [
    "for i in range(1,7):\n",
    "    PAY='PAY_'+str(i)\n",
    "    df[PAY]=df[PAY].replace({-1:0})\n",
    "    df[PAY]=df[PAY].replace({-2:0})"
   ]
  },
  {
   "cell_type": "code",
   "execution_count": 8,
   "metadata": {
    "colab": {
     "base_uri": "https://localhost:8080/"
    },
    "id": "9eNNrYyM591m",
    "outputId": "bcbcd486-5d52-4a40-e886-eff8c1869d0a"
   },
   "outputs": [
    {
     "name": "stdout",
     "output_type": "stream",
     "text": [
      "<class 'pandas.core.frame.DataFrame'>\n",
      "RangeIndex: 30000 entries, 0 to 29999\n",
      "Data columns (total 24 columns):\n",
      " #   Column     Non-Null Count  Dtype  \n",
      "---  ------     --------------  -----  \n",
      " 0   LIMIT_BAL  30000 non-null  float64\n",
      " 1   SEX        30000 non-null  int64  \n",
      " 2   EDUCATION  30000 non-null  int64  \n",
      " 3   MARRIAGE   30000 non-null  int64  \n",
      " 4   AGE        30000 non-null  int64  \n",
      " 5   PAY_1      30000 non-null  int64  \n",
      " 6   PAY_2      30000 non-null  int64  \n",
      " 7   PAY_3      30000 non-null  int64  \n",
      " 8   PAY_4      30000 non-null  int64  \n",
      " 9   PAY_5      30000 non-null  int64  \n",
      " 10  PAY_6      30000 non-null  int64  \n",
      " 11  BILL_AMT1  30000 non-null  float64\n",
      " 12  BILL_AMT2  30000 non-null  float64\n",
      " 13  BILL_AMT3  30000 non-null  float64\n",
      " 14  BILL_AMT4  30000 non-null  float64\n",
      " 15  BILL_AMT5  30000 non-null  float64\n",
      " 16  BILL_AMT6  30000 non-null  float64\n",
      " 17  PAY_AMT1   30000 non-null  float64\n",
      " 18  PAY_AMT2   30000 non-null  float64\n",
      " 19  PAY_AMT3   30000 non-null  float64\n",
      " 20  PAY_AMT4   30000 non-null  float64\n",
      " 21  PAY_AMT5   30000 non-null  float64\n",
      " 22  PAY_AMT6   30000 non-null  float64\n",
      " 23  Default    30000 non-null  object \n",
      "dtypes: float64(13), int64(10), object(1)\n",
      "memory usage: 5.5+ MB\n"
     ]
    }
   ],
   "source": [
    "df.info()"
   ]
  },
  {
   "cell_type": "code",
   "execution_count": 9,
   "metadata": {
    "colab": {
     "base_uri": "https://localhost:8080/"
    },
    "id": "XuMLeYHP4bmJ",
    "outputId": "9afd0f5c-bb36-4bfb-ea8d-89dcc4983c9c"
   },
   "outputs": [
    {
     "data": {
      "text/plain": [
       "No     23364\n",
       "Yes     6636\n",
       "Name: Default, dtype: int64"
      ]
     },
     "execution_count": 9,
     "metadata": {},
     "output_type": "execute_result"
    }
   ],
   "source": [
    "df['Default'].value_counts()"
   ]
  },
  {
   "cell_type": "code",
   "execution_count": 10,
   "metadata": {
    "id": "HxqdGxeMJc0A"
   },
   "outputs": [],
   "source": [
    "X = df.drop('Default', axis = 1)\n",
    "y=df['Default']"
   ]
  },
  {
   "cell_type": "code",
   "execution_count": 11,
   "metadata": {
    "colab": {
     "base_uri": "https://localhost:8080/"
    },
    "id": "gFbyeyYgZDEt",
    "outputId": "2fbd23ee-c4b8-44bd-cd3e-756d56b852f7"
   },
   "outputs": [
    {
     "name": "stdout",
     "output_type": "stream",
     "text": [
      "<class 'pandas.core.frame.DataFrame'>\n",
      "RangeIndex: 30000 entries, 0 to 29999\n",
      "Data columns (total 23 columns):\n",
      " #   Column     Non-Null Count  Dtype  \n",
      "---  ------     --------------  -----  \n",
      " 0   LIMIT_BAL  30000 non-null  float64\n",
      " 1   SEX        30000 non-null  int64  \n",
      " 2   EDUCATION  30000 non-null  int64  \n",
      " 3   MARRIAGE   30000 non-null  int64  \n",
      " 4   AGE        30000 non-null  int64  \n",
      " 5   PAY_1      30000 non-null  int64  \n",
      " 6   PAY_2      30000 non-null  int64  \n",
      " 7   PAY_3      30000 non-null  int64  \n",
      " 8   PAY_4      30000 non-null  int64  \n",
      " 9   PAY_5      30000 non-null  int64  \n",
      " 10  PAY_6      30000 non-null  int64  \n",
      " 11  BILL_AMT1  30000 non-null  float64\n",
      " 12  BILL_AMT2  30000 non-null  float64\n",
      " 13  BILL_AMT3  30000 non-null  float64\n",
      " 14  BILL_AMT4  30000 non-null  float64\n",
      " 15  BILL_AMT5  30000 non-null  float64\n",
      " 16  BILL_AMT6  30000 non-null  float64\n",
      " 17  PAY_AMT1   30000 non-null  float64\n",
      " 18  PAY_AMT2   30000 non-null  float64\n",
      " 19  PAY_AMT3   30000 non-null  float64\n",
      " 20  PAY_AMT4   30000 non-null  float64\n",
      " 21  PAY_AMT5   30000 non-null  float64\n",
      " 22  PAY_AMT6   30000 non-null  float64\n",
      "dtypes: float64(13), int64(10)\n",
      "memory usage: 5.3 MB\n"
     ]
    }
   ],
   "source": [
    "X.info()"
   ]
  },
  {
   "cell_type": "code",
   "execution_count": 12,
   "metadata": {
    "id": "aYrJBbHKZFKB"
   },
   "outputs": [],
   "source": [
    "# X=np.array(X)\n",
    "# y=np.array(y)"
   ]
  },
  {
   "cell_type": "code",
   "execution_count": 13,
   "metadata": {
    "id": "zC8e2WZ9ZTm1"
   },
   "outputs": [],
   "source": [
    "X_train,X_test,y_train,y_test=train_test_split(X,y,test_size=0.2,random_state=42)"
   ]
  },
  {
   "cell_type": "code",
   "execution_count": 14,
   "metadata": {},
   "outputs": [],
   "source": [
    "target_encoder=LabelEncoder()\n",
    "y_train=target_encoder.fit_transform(y_train)\n",
    "y_test=target_encoder.transform(y_test)"
   ]
  },
  {
   "cell_type": "code",
   "execution_count": 15,
   "metadata": {
    "colab": {
     "base_uri": "https://localhost:8080/"
    },
    "id": "vFjt4I-bZXwd",
    "outputId": "89b8599e-caa5-42fe-93f1-77704ce223f2"
   },
   "outputs": [
    {
     "name": "stdout",
     "output_type": "stream",
     "text": [
      "(24000, 23)\n",
      "(6000, 23)\n",
      "(24000,)\n",
      "(6000,)\n"
     ]
    }
   ],
   "source": [
    "scaler  = StandardScaler()\n",
    "X_train = scaler.fit_transform(X_train)\n",
    "X_test  = scaler.transform(X_test)\n",
    "print(X_train.shape)\n",
    "print(X_test.shape)\n",
    "print(y_train.shape)\n",
    "print(y_test.shape)"
   ]
  },
  {
   "cell_type": "code",
   "execution_count": 16,
   "metadata": {
    "colab": {
     "base_uri": "https://localhost:8080/"
    },
    "id": "2vtXNBOYbDOE",
    "outputId": "2343b29a-ef43-416e-cbbb-e0321ee0cf4a"
   },
   "outputs": [
    {
     "name": "stdout",
     "output_type": "stream",
     "text": [
      "(36332, 23)\n",
      "(9084, 23)\n",
      "(36332,)\n",
      "(9084,)\n"
     ]
    }
   ],
   "source": [
    "smt=SMOTETomek()\n",
    "X_train,y_train=smt.fit_resample(X_train,y_train)\n",
    "X_test,y_test=smt.fit_resample(X_test,y_test)\n",
    "print(X_train.shape)\n",
    "print(X_test.shape)\n",
    "print(y_train.shape)\n",
    "print(y_test.shape)"
   ]
  },
  {
   "cell_type": "code",
   "execution_count": 30,
   "metadata": {
    "colab": {
     "base_uri": "https://localhost:8080/"
    },
    "id": "G_KVjN_q6adO",
    "outputId": "bf93e694-10af-4ba3-8a80-82a7cb20be5b"
   },
   "outputs": [
    {
     "name": "stdout",
     "output_type": "stream",
     "text": [
      "re_call_clf_train:- 0.5717984026438998\n",
      "########################################\n",
      "precision_clf_train:- 0.7859630526953362\n",
      "########################################\n",
      "f1_clf_train:- 0.6619902432802984\n",
      "########################################\n",
      "Classifictioan Report Train:-                precision    recall  f1-score   support\n",
      "\n",
      "           0       0.66      0.84      0.74     18155\n",
      "           1       0.79      0.57      0.66     18155\n",
      "\n",
      "    accuracy                           0.71     36310\n",
      "   macro avg       0.72      0.71      0.70     36310\n",
      "weighted avg       0.72      0.71      0.70     36310\n",
      "\n",
      "########################################\n",
      "Accuracy_clf_train:- 0.7080418617460754\n",
      "########################################\n",
      "Confusion Matrix Train:- [[15328  2827]\n",
      " [ 7774 10381]]\n",
      "########################################\n",
      "col_0      0      1\n",
      "row_0              \n",
      "0      15328   2827\n",
      "1       7774  10381\n",
      "########################################\n",
      "re_call_clf_test:- 0.5721502306171755\n",
      "########################################\n",
      "precision_clf_test:- 0.7822822822822822\n",
      "########################################\n",
      "f1_clf_test:- 0.6609158949638463\n",
      "########################################\n",
      "Classifictioan Report Test:-                precision    recall  f1-score   support\n",
      "\n",
      "           0       0.66      0.84      0.74      4553\n",
      "           1       0.78      0.57      0.66      4553\n",
      "\n",
      "    accuracy                           0.71      9106\n",
      "   macro avg       0.72      0.71      0.70      9106\n",
      "weighted avg       0.72      0.71      0.70      9106\n",
      "\n",
      "########################################\n",
      "Accuracy_clf_test:- 0.7064572809136833\n",
      "########################################\n",
      "Confusion Matrix Test:- [[3828  725]\n",
      " [1948 2605]]\n",
      "########################################\n",
      "col_0     0     1\n",
      "row_0            \n",
      "0      3828   725\n",
      "1      1948  2605\n",
      "ROC-AUC Score: 0.7064572809136833\n",
      "XGB train roc-auc: 0.7080418617460755\n",
      "XGB test roc-auc: 0.7064572809136833\n"
     ]
    }
   ],
   "source": [
    "#Logistic Regression\n",
    "clf=LogisticRegression()\n",
    "clf.fit(X_train,y_train)\n",
    "y_pred_clf_train=clf.predict(X_train)\n",
    "y_pred_clf_test=clf.predict(X_test)\n",
    "Accuracy_clf_train=accuracy_score(y_train,y_pred_clf_train)\n",
    "cm_clf_train = confusion_matrix(y_train, y_pred_clf_train)\n",
    "cr_clf_train=classification_report(y_train,y_pred_clf_train)\n",
    "re_call_clf_train=recall_score(y_train,y_pred_clf_train)\n",
    "precision_clf_train=precision_score(y_train,y_pred_clf_train)\n",
    "f1_clf_train=f1_score(y_train,y_pred_clf_train)\n",
    "#==========================================================\n",
    "Accuracy_clf_test=accuracy_score(y_test,y_pred_clf_test)\n",
    "cm_clf_test= confusion_matrix(y_test, y_pred_clf_test)\n",
    "cr_clf_test=classification_report(y_test,y_pred_clf_test)\n",
    "re_call_clf_test=recall_score(y_test,y_pred_clf_test)\n",
    "precision_clf_test=precision_score(y_test,y_pred_clf_test)\n",
    "f1_clf_test=f1_score(y_test,y_pred_clf_test)\n",
    "#=========================================================\n",
    "print(\"re_call_clf_train:-\",re_call_clf_train)\n",
    "print(\"#\"*40)\n",
    "print(\"precision_clf_train:-\",precision_clf_train)\n",
    "print(\"#\"*40)\n",
    "print(\"f1_clf_train:-\",f1_clf_train)\n",
    "print(\"#\"*40)\n",
    "print(\"Classifictioan Report Train:- \",cr_clf_train)\n",
    "print(\"#\"*40)\n",
    "print(\"Accuracy_clf_train:-\",Accuracy_clf_train)\n",
    "print(\"#\"*40)\n",
    "print(\"Confusion Matrix Train:-\",cm_clf_train)\n",
    "print(\"#\"*40)\n",
    "print(pd.crosstab(y_train,y_pred_clf_train))\n",
    "print(\"#\"*40)\n",
    "print(\"re_call_clf_test:-\",re_call_clf_test)\n",
    "print(\"#\"*40)\n",
    "print(\"precision_clf_test:-\",precision_clf_test)\n",
    "print(\"#\"*40)\n",
    "print(\"f1_clf_test:-\",f1_clf_test)\n",
    "print(\"#\"*40)\n",
    "print(\"Classifictioan Report Test:- \",cr_clf_test)\n",
    "print(\"#\"*40)\n",
    "print(\"Accuracy_clf_test:-\",Accuracy_clf_test)\n",
    "print(\"#\"*40)\n",
    "print(\"Confusion Matrix Test:-\",cm_clf_test)\n",
    "print(\"#\"*40)\n",
    "print(pd.crosstab(y_test,y_pred_clf_test))\n",
    "#ROC-AUC score\n",
    "auc_score = roc_auc_score(y_test,y_pred_clf_test)\n",
    "print('ROC-AUC Score:',auc_score)\n",
    "print('XGB train roc-auc: {}'.format(roc_auc_score(y_train,y_pred_clf_train)))\n",
    "print('XGB test roc-auc: {}'.format(roc_auc_score(y_test,y_pred_clf_test)))"
   ]
  },
  {
   "cell_type": "code",
   "execution_count": null,
   "metadata": {
    "colab": {
     "base_uri": "https://localhost:8080/"
    },
    "id": "T7axFvFi6amJ",
    "outputId": "a13be61a-4a77-4251-8936-034aac422124"
   },
   "outputs": [
    {
     "name": "stdout",
     "output_type": "stream",
     "text": [
      "Best hyperparameters:  {'C': 2.832290311184182, 'penalty': 'l2'}\n"
     ]
    }
   ],
   "source": [
    "from sklearn.linear_model import LogisticRegression\n",
    "from sklearn.model_selection import RandomizedSearchCV\n",
    "from scipy.stats import uniform\n",
    "import numpy as np\n",
    "\n",
    "# Load the data\n",
    "X_train, y_train\n",
    "\n",
    "# Define hyperparameter grid\n",
    "param_grid = {'C': uniform(loc=0, scale=4),\n",
    "              'penalty': ['l1', 'l2', 'elasticnet', None]}\n",
    "\n",
    "# Create Logistic Regression model\n",
    "log_reg = LogisticRegression()\n",
    "\n",
    "# Create RandomizedSearchCV object\n",
    "random_search = RandomizedSearchCV(log_reg, param_distributions=param_grid, \n",
    "                                   n_iter=100, cv=5, random_state=42)\n",
    "\n",
    "# Fit the model to the data\n",
    "random_search.fit(X_train, y_train)\n",
    "\n",
    "# Print the best hyperparameters\n",
    "print(\"Best hyperparameters: \", random_search.best_params_)"
   ]
  },
  {
   "cell_type": "code",
   "execution_count": 31,
   "metadata": {
    "colab": {
     "base_uri": "https://localhost:8080/"
    },
    "id": "bKo9NEiO6arn",
    "outputId": "7cebd064-4887-4395-e35a-aa3db68ffc0c"
   },
   "outputs": [
    {
     "name": "stdout",
     "output_type": "stream",
     "text": [
      "re_call_clf_train:- 0.5717984026438998\n",
      "########################################\n",
      "precision_clf_train:- 0.7859630526953362\n",
      "########################################\n",
      "f1_clf_train:- 0.6619902432802984\n",
      "########################################\n",
      "Classifictioan Report Train:-                precision    recall  f1-score   support\n",
      "\n",
      "           0       0.66      0.84      0.74     18155\n",
      "           1       0.79      0.57      0.66     18155\n",
      "\n",
      "    accuracy                           0.71     36310\n",
      "   macro avg       0.72      0.71      0.70     36310\n",
      "weighted avg       0.72      0.71      0.70     36310\n",
      "\n",
      "########################################\n",
      "Accuracy_clf_train:- 0.7080418617460754\n",
      "########################################\n",
      "Confusion Matrix Train:- [[15328  2827]\n",
      " [ 7774 10381]]\n",
      "########################################\n",
      "col_0      0      1\n",
      "row_0              \n",
      "0      15328   2827\n",
      "1       7774  10381\n",
      "########################################\n",
      "re_call_clf_test:- 0.5721502306171755\n",
      "########################################\n",
      "precision_clf_test:- 0.7822822822822822\n",
      "########################################\n",
      "f1_clf_test:- 0.6609158949638463\n",
      "########################################\n",
      "Classifictioan Report Test:-                precision    recall  f1-score   support\n",
      "\n",
      "           0       0.66      0.84      0.74      4553\n",
      "           1       0.78      0.57      0.66      4553\n",
      "\n",
      "    accuracy                           0.71      9106\n",
      "   macro avg       0.72      0.71      0.70      9106\n",
      "weighted avg       0.72      0.71      0.70      9106\n",
      "\n",
      "########################################\n",
      "Accuracy_clf_test:- 0.7064572809136833\n",
      "########################################\n",
      "Confusion Matrix Test:- [[3828  725]\n",
      " [1948 2605]]\n",
      "########################################\n",
      "col_0     0     1\n",
      "row_0            \n",
      "0      3828   725\n",
      "1      1948  2605\n",
      "ROC-AUC Score: 0.7064572809136833\n",
      "XGB train roc-auc: 0.7080418617460755\n",
      "XGB test roc-auc: 0.7064572809136833\n"
     ]
    }
   ],
   "source": [
    "#Logistic Regression\n",
    "clf=LogisticRegression(C= 2.832290311184182, penalty ='l2')\n",
    "clf.fit(X_train,y_train)\n",
    "y_pred_clf_train=clf.predict(X_train)\n",
    "y_pred_clf_test=clf.predict(X_test)\n",
    "Accuracy_clf_train=accuracy_score(y_train,y_pred_clf_train)\n",
    "cm_clf_train = confusion_matrix(y_train, y_pred_clf_train)\n",
    "cr_clf_train=classification_report(y_train,y_pred_clf_train)\n",
    "re_call_clf_train=recall_score(y_train,y_pred_clf_train)\n",
    "precision_clf_train=precision_score(y_train,y_pred_clf_train)\n",
    "f1_clf_train=f1_score(y_train,y_pred_clf_train)\n",
    "#==========================================================\n",
    "Accuracy_clf_test=accuracy_score(y_test,y_pred_clf_test)\n",
    "cm_clf_test= confusion_matrix(y_test, y_pred_clf_test)\n",
    "cr_clf_test=classification_report(y_test,y_pred_clf_test)\n",
    "re_call_clf_test=recall_score(y_test,y_pred_clf_test)\n",
    "precision_clf_test=precision_score(y_test,y_pred_clf_test)\n",
    "f1_clf_test=f1_score(y_test,y_pred_clf_test)\n",
    "#=========================================================\n",
    "print(\"re_call_clf_train:-\",re_call_clf_train)\n",
    "print(\"#\"*40)\n",
    "print(\"precision_clf_train:-\",precision_clf_train)\n",
    "print(\"#\"*40)\n",
    "print(\"f1_clf_train:-\",f1_clf_train)\n",
    "print(\"#\"*40)\n",
    "print(\"Classifictioan Report Train:- \",cr_clf_train)\n",
    "print(\"#\"*40)\n",
    "print(\"Accuracy_clf_train:-\",Accuracy_clf_train)\n",
    "print(\"#\"*40)\n",
    "print(\"Confusion Matrix Train:-\",cm_clf_train)\n",
    "print(\"#\"*40)\n",
    "print(pd.crosstab(y_train,y_pred_clf_train))\n",
    "print(\"#\"*40)\n",
    "print(\"re_call_clf_test:-\",re_call_clf_test)\n",
    "print(\"#\"*40)\n",
    "print(\"precision_clf_test:-\",precision_clf_test)\n",
    "print(\"#\"*40)\n",
    "print(\"f1_clf_test:-\",f1_clf_test)\n",
    "print(\"#\"*40)\n",
    "print(\"Classifictioan Report Test:- \",cr_clf_test)\n",
    "print(\"#\"*40)\n",
    "print(\"Accuracy_clf_test:-\",Accuracy_clf_test)\n",
    "print(\"#\"*40)\n",
    "print(\"Confusion Matrix Test:-\",cm_clf_test)\n",
    "print(\"#\"*40)\n",
    "print(pd.crosstab(y_test,y_pred_clf_test))\n",
    "#ROC-AUC score\n",
    "auc_score = roc_auc_score(y_test,y_pred_clf_test)\n",
    "print('ROC-AUC Score:',auc_score)\n",
    "print('XGB train roc-auc: {}'.format(roc_auc_score(y_train,y_pred_clf_train)))\n",
    "print('XGB test roc-auc: {}'.format(roc_auc_score(y_test,y_pred_clf_test)))"
   ]
  },
  {
   "cell_type": "code",
   "execution_count": 139,
   "metadata": {
    "id": "mNgc4cubaYce"
   },
   "outputs": [],
   "source": [
    "#### Calculate the ROC Curve Logistic Regression\n",
    "fpr_clf_train, tpr_clf_train, thresholds_clf_train = roc_curve(y_train,y_pred_clf_train)\n",
    "fpr_clf_test, tpr_clf_test, thresholds_clf_test = roc_curve(y_test,y_pred_clf_test)"
   ]
  },
  {
   "cell_type": "code",
   "execution_count": 140,
   "metadata": {
    "id": "b_lQa4iPaYQH"
   },
   "outputs": [],
   "source": [
    "def plot_roc_curve(fpr, tpr):\n",
    "    plt.plot(fpr, tpr, color='orange', label='ROC')\n",
    "    plt.plot([0, 1], [0, 1], color='darkblue', linestyle='--')\n",
    "    plt.xlabel('False Positive Rate')\n",
    "    plt.ylabel('True Positive Rate')\n",
    "    plt.title('Receiver Operating Characteristic (ROC) Curve')\n",
    "    plt.legend()\n",
    "    plt.show()"
   ]
  },
  {
   "cell_type": "code",
   "execution_count": 141,
   "metadata": {
    "colab": {
     "base_uri": "https://localhost:8080/",
     "height": 295
    },
    "id": "LSP7g-R5aYEl",
    "outputId": "fe7d2b19-e955-445d-f561-52ba3b00aab9"
   },
   "outputs": [
    {
     "data": {
      "image/png": "[encoded data removed]",
      "text/plain": [
       "<Figure size 432x288 with 1 Axes>"
      ]
     },
     "metadata": {
      "needs_background": "light"
     },
     "output_type": "display_data"
    }
   ],
   "source": [
    "plot_roc_curve(fpr_clf_train,tpr_clf_train)"
   ]
  },
  {
   "cell_type": "code",
   "execution_count": 142,
   "metadata": {
    "colab": {
     "base_uri": "https://localhost:8080/",
     "height": 295
    },
    "id": "RU0RndqWaXtK",
    "outputId": "8c1638b8-066a-41c1-c041-d6e2a7177f5a"
   },
   "outputs": [
    {
     "data": {
      "image/png": "[encoded data removed]",
      "text/plain": [
       "<Figure size 432x288 with 1 Axes>"
      ]
     },
     "metadata": {
      "needs_background": "light"
     },
     "output_type": "display_data"
    }
   ],
   "source": [
    "plot_roc_curve(fpr_clf_test,tpr_clf_test)"
   ]
  },
  {
   "cell_type": "code",
   "execution_count": 127,
   "metadata": {
    "colab": {
     "base_uri": "https://localhost:8080/"
    },
    "id": "pa_hmx7b6avh",
    "outputId": "2b4ad810-4602-494f-d261-9b2826e19e53"
   },
   "outputs": [
    {
     "name": "stdout",
     "output_type": "stream",
     "text": [
      "re_call_dt_train:- 0.9995591557833251\n",
      "########################################\n",
      "precision_dt_train:- 1.0\n",
      "########################################\n",
      "f1_dt_train:- 0.999779529295045\n",
      "########################################\n",
      "Classifictioan Report Train:-                precision    recall  f1-score   support\n",
      "\n",
      "           0       1.00      1.00      1.00     18147\n",
      "           1       1.00      1.00      1.00     18147\n",
      "\n",
      "    accuracy                           1.00     36294\n",
      "   macro avg       1.00      1.00      1.00     36294\n",
      "weighted avg       1.00      1.00      1.00     36294\n",
      "\n",
      "########################################\n",
      "Accuracy_dt_train:- 0.9997795778916625\n",
      "########################################\n",
      "Confusion Matrix Train:- [[18147     0]\n",
      " [    8 18139]]\n",
      "########################################\n",
      "col_0      0      1\n",
      "row_0              \n",
      "0      18147      0\n",
      "1          8  18139\n",
      "########################################\n",
      "re_call_dt_test:- 0.6594393342093736\n",
      "########################################\n",
      "precision_dt_test:- 0.7399852543622512\n",
      "########################################\n",
      "f1_dt_test:- 0.6973943254198032\n",
      "########################################\n",
      "Classifictioan Report Test:-                precision    recall  f1-score   support\n",
      "\n",
      "           0       0.69      0.77      0.73      4566\n",
      "           1       0.74      0.66      0.70      4566\n",
      "\n",
      "    accuracy                           0.71      9132\n",
      "   macro avg       0.72      0.71      0.71      9132\n",
      "weighted avg       0.72      0.71      0.71      9132\n",
      "\n",
      "########################################\n",
      "Accuracy_dt_test:- 0.7138633377135348\n",
      "########################################\n",
      "Confusion Matrix Test:- [[3508 1058]\n",
      " [1555 3011]]\n",
      "########################################\n",
      "col_0     0     1\n",
      "row_0            \n",
      "0      3508  1058\n",
      "1      1555  3011\n",
      "ROC-AUC Score: 0.7138633377135348\n",
      "XGB train roc-auc: 0.9997795778916625\n",
      "XGB test roc-auc: 0.7138633377135348\n"
     ]
    }
   ],
   "source": [
    "#Decision Tree\n",
    "dt=DecisionTreeClassifier()\n",
    "dt.fit(X_train,y_train)\n",
    "y_pred_dt_train=dt.predict(X_train)\n",
    "y_pred_dt_test=dt.predict(X_test)\n",
    "Accuracy_dt_train=accuracy_score(y_train,y_pred_dt_train)\n",
    "cm_dt_train = confusion_matrix(y_train, y_pred_dt_train)\n",
    "cr_dt_train=classification_report(y_train,y_pred_dt_train)\n",
    "re_call_dt_train=recall_score(y_train,y_pred_dt_train)\n",
    "precision_dt_train=precision_score(y_train,y_pred_dt_train)\n",
    "f1_dt_train=f1_score(y_train,y_pred_dt_train)\n",
    "#==========================================================\n",
    "Accuracy_dt_test=accuracy_score(y_test,y_pred_dt_test)\n",
    "cm_dt_test= confusion_matrix(y_test, y_pred_dt_test)\n",
    "cr_dt_test=classification_report(y_test,y_pred_dt_test)\n",
    "re_call_dt_test=recall_score(y_test,y_pred_dt_test)\n",
    "precision_dt_test=precision_score(y_test,y_pred_dt_test)\n",
    "f1_dt_test=f1_score(y_test,y_pred_dt_test)\n",
    "#=========================================================\n",
    "print(\"re_call_dt_train:-\",re_call_dt_train)\n",
    "print(\"#\"*40)\n",
    "print(\"precision_dt_train:-\",precision_dt_train)\n",
    "print(\"#\"*40)\n",
    "print(\"f1_dt_train:-\",f1_dt_train)\n",
    "print(\"#\"*40)\n",
    "print(\"Classifictioan Report Train:- \",cr_dt_train)\n",
    "print(\"#\"*40)\n",
    "print(\"Accuracy_dt_train:-\",Accuracy_dt_train)\n",
    "print(\"#\"*40)\n",
    "print(\"Confusion Matrix Train:-\",cm_dt_train)\n",
    "print(\"#\"*40)\n",
    "print(pd.crosstab(y_train,y_pred_dt_train))\n",
    "print(\"#\"*40)\n",
    "print(\"re_call_dt_test:-\",re_call_dt_test)\n",
    "print(\"#\"*40)\n",
    "print(\"precision_dt_test:-\",precision_dt_test)\n",
    "print(\"#\"*40)\n",
    "print(\"f1_dt_test:-\",f1_dt_test)\n",
    "print(\"#\"*40)\n",
    "print(\"Classifictioan Report Test:- \",cr_dt_test)\n",
    "print(\"#\"*40)\n",
    "print(\"Accuracy_dt_test:-\",Accuracy_dt_test)\n",
    "print(\"#\"*40)\n",
    "print(\"Confusion Matrix Test:-\",cm_dt_test)\n",
    "print(\"#\"*40)\n",
    "print(pd.crosstab(y_test,y_pred_dt_test))\n",
    "#ROC-AUC score\n",
    "auc_score = roc_auc_score(y_test,y_pred_dt_test)\n",
    "print('ROC-AUC Score:',auc_score)\n",
    "print('XGB train roc-auc: {}'.format(roc_auc_score(y_train,y_pred_dt_train)))\n",
    "print('XGB test roc-auc: {}'.format(roc_auc_score(y_test,y_pred_dt_test)))"
   ]
  },
  {
   "cell_type": "code",
   "execution_count": null,
   "metadata": {
    "colab": {
     "base_uri": "https://localhost:8080/"
    },
    "id": "8JjH_4pZ6ay9",
    "outputId": "363c22b1-d628-4427-b768-699bfd24355a"
   },
   "outputs": [
    {
     "name": "stdout",
     "output_type": "stream",
     "text": [
      "Best hyperparameters:  {'splitter': 'best', 'min_samples_split': 2, 'min_samples_leaf': 1, 'max_depth': 9, 'criterion': 'gini'}\n"
     ]
    }
   ],
   "source": [
    "from sklearn.tree import DecisionTreeClassifier\n",
    "from sklearn.model_selection import RandomizedSearchCV\n",
    "from scipy.stats import uniform\n",
    "import numpy as np\n",
    "\n",
    "# Load the data\n",
    "X_train, y_train\n",
    "\n",
    "# Define hyperparameter grid\n",
    "param_grid = {\n",
    "    'criterion': ['gini', 'entropy'],\n",
    "    'max_depth' : range(2,10,1),\n",
    "    'min_samples_leaf' : range(1,8,1),\n",
    "    'min_samples_split': range(2,8,1),\n",
    "    'splitter' : ['best', 'random']\n",
    "    \n",
    "}\n",
    "\n",
    "# Create Decision Tree model\n",
    "dtree = DecisionTreeClassifier()\n",
    "\n",
    "# Create RandomizedSearchCV object\n",
    "random_search = RandomizedSearchCV(dtree, param_distributions=param_grid, \n",
    "                                   n_iter=100, cv=5, random_state=42)\n",
    "\n",
    "# Fit the model to the data\n",
    "random_search.fit(X_train, y_train)\n",
    "\n",
    "# Print the best hyperparameters\n",
    "print(\"Best hyperparameters: \", random_search.best_params_)"
   ]
  },
  {
   "cell_type": "code",
   "execution_count": 128,
   "metadata": {
    "colab": {
     "base_uri": "https://localhost:8080/"
    },
    "id": "PaXqUzta6a2t",
    "outputId": "911d2a91-954e-478a-fcad-1682c771b4fb"
   },
   "outputs": [
    {
     "name": "stdout",
     "output_type": "stream",
     "text": [
      "re_call_dt_train:- 0.7350526257783656\n",
      "########################################\n",
      "precision_dt_train:- 0.8167401420524124\n",
      "########################################\n",
      "f1_dt_train:- 0.7737463383508804\n",
      "########################################\n",
      "Classifictioan Report Train:-                precision    recall  f1-score   support\n",
      "\n",
      "           0       0.76      0.84      0.80     18147\n",
      "           1       0.82      0.74      0.77     18147\n",
      "\n",
      "    accuracy                           0.79     36294\n",
      "   macro avg       0.79      0.79      0.78     36294\n",
      "weighted avg       0.79      0.79      0.78     36294\n",
      "\n",
      "########################################\n",
      "Accuracy_dt_train:- 0.7850608916074282\n",
      "########################################\n",
      "Confusion Matrix Train:- [[15154  2993]\n",
      " [ 4808 13339]]\n",
      "########################################\n",
      "col_0      0      1\n",
      "row_0              \n",
      "0      15154   2993\n",
      "1       4808  13339\n",
      "########################################\n",
      "re_call_dt_test:- 0.6907577748576434\n",
      "########################################\n",
      "precision_dt_test:- 0.7867298578199052\n",
      "########################################\n",
      "f1_dt_test:- 0.7356268221574345\n",
      "########################################\n",
      "Classifictioan Report Test:-                precision    recall  f1-score   support\n",
      "\n",
      "           0       0.72      0.81      0.77      4566\n",
      "           1       0.79      0.69      0.74      4566\n",
      "\n",
      "    accuracy                           0.75      9132\n",
      "   macro avg       0.76      0.75      0.75      9132\n",
      "weighted avg       0.76      0.75      0.75      9132\n",
      "\n",
      "########################################\n",
      "Accuracy_dt_test:- 0.7517520805957074\n",
      "########################################\n",
      "Confusion Matrix Test:- [[3711  855]\n",
      " [1412 3154]]\n",
      "########################################\n",
      "col_0     0     1\n",
      "row_0            \n",
      "0      3711   855\n",
      "1      1412  3154\n",
      "ROC-AUC Score: 0.7517520805957074\n",
      "XGB train roc-auc: 0.7850608916074282\n",
      "XGB test roc-auc: 0.7517520805957074\n"
     ]
    }
   ],
   "source": [
    "#Decision Tree\n",
    "dt=DecisionTreeClassifier(splitter= 'best', min_samples_split =2, min_samples_leaf= 1, max_depth =9, criterion= 'gini')\n",
    "dt.fit(X_train,y_train)\n",
    "y_pred_dt_train=dt.predict(X_train)\n",
    "y_pred_dt_test=dt.predict(X_test)\n",
    "Accuracy_dt_train=accuracy_score(y_train,y_pred_dt_train)\n",
    "cm_dt_train = confusion_matrix(y_train, y_pred_dt_train)\n",
    "cr_dt_train=classification_report(y_train,y_pred_dt_train)\n",
    "re_call_dt_train=recall_score(y_train,y_pred_dt_train)\n",
    "precision_dt_train=precision_score(y_train,y_pred_dt_train)\n",
    "f1_dt_train=f1_score(y_train,y_pred_dt_train)\n",
    "#==========================================================\n",
    "Accuracy_dt_test=accuracy_score(y_test,y_pred_dt_test)\n",
    "cm_dt_test= confusion_matrix(y_test, y_pred_dt_test)\n",
    "cr_dt_test=classification_report(y_test,y_pred_dt_test)\n",
    "re_call_dt_test=recall_score(y_test,y_pred_dt_test)\n",
    "precision_dt_test=precision_score(y_test,y_pred_dt_test)\n",
    "f1_dt_test=f1_score(y_test,y_pred_dt_test)\n",
    "#=========================================================\n",
    "print(\"re_call_dt_train:-\",re_call_dt_train)\n",
    "print(\"#\"*40)\n",
    "print(\"precision_dt_train:-\",precision_dt_train)\n",
    "print(\"#\"*40)\n",
    "print(\"f1_dt_train:-\",f1_dt_train)\n",
    "print(\"#\"*40)\n",
    "print(\"Classifictioan Report Train:- \",cr_dt_train)\n",
    "print(\"#\"*40)\n",
    "print(\"Accuracy_dt_train:-\",Accuracy_dt_train)\n",
    "print(\"#\"*40)\n",
    "print(\"Confusion Matrix Train:-\",cm_dt_train)\n",
    "print(\"#\"*40)\n",
    "print(pd.crosstab(y_train,y_pred_dt_train))\n",
    "print(\"#\"*40)\n",
    "print(\"re_call_dt_test:-\",re_call_dt_test)\n",
    "print(\"#\"*40)\n",
    "print(\"precision_dt_test:-\",precision_dt_test)\n",
    "print(\"#\"*40)\n",
    "print(\"f1_dt_test:-\",f1_dt_test)\n",
    "print(\"#\"*40)\n",
    "print(\"Classifictioan Report Test:- \",cr_dt_test)\n",
    "print(\"#\"*40)\n",
    "print(\"Accuracy_dt_test:-\",Accuracy_dt_test)\n",
    "print(\"#\"*40)\n",
    "print(\"Confusion Matrix Test:-\",cm_dt_test)\n",
    "print(\"#\"*40)\n",
    "print(pd.crosstab(y_test,y_pred_dt_test))\n",
    "#ROC-AUC score\n",
    "auc_score = roc_auc_score(y_test,y_pred_dt_test)\n",
    "print('ROC-AUC Score:',auc_score)\n",
    "print('XGB train roc-auc: {}'.format(roc_auc_score(y_train,y_pred_dt_train)))\n",
    "print('XGB test roc-auc: {}'.format(roc_auc_score(y_test,y_pred_dt_test)))"
   ]
  },
  {
   "cell_type": "code",
   "execution_count": 135,
   "metadata": {
    "id": "GiIr2_PzZzJX"
   },
   "outputs": [],
   "source": [
    "#### Calculate the ROC Curve Decision Tree\n",
    "fpr_dt_train, tpr_dt_train, thresholds_dt_train = roc_curve(y_train,y_pred_dt_train)\n",
    "fpr_dt_test, tpr_dt_test, thresholds_dt_test = roc_curve(y_test,y_pred_dt_test)"
   ]
  },
  {
   "cell_type": "code",
   "execution_count": 136,
   "metadata": {
    "id": "qCjPYz5zZy2j"
   },
   "outputs": [],
   "source": [
    "def plot_roc_curve(fpr, tpr):\n",
    "    plt.plot(fpr, tpr, color='orange', label='ROC')\n",
    "    plt.plot([0, 1], [0, 1], color='darkblue', linestyle='--')\n",
    "    plt.xlabel('False Positive Rate')\n",
    "    plt.ylabel('True Positive Rate')\n",
    "    plt.title('Receiver Operating Characteristic (ROC) Curve')\n",
    "    plt.legend()\n",
    "    plt.show()"
   ]
  },
  {
   "cell_type": "code",
   "execution_count": 137,
   "metadata": {
    "colab": {
     "base_uri": "https://localhost:8080/",
     "height": 295
    },
    "id": "ECRue116ZyjD",
    "outputId": "92d780cf-6a59-43c1-f65d-39ed629f16af"
   },
   "outputs": [
    {
     "data": {
      "image/png": "[encoded data removed]",
      "text/plain": [
       "<Figure size 432x288 with 1 Axes>"
      ]
     },
     "metadata": {
      "needs_background": "light"
     },
     "output_type": "display_data"
    }
   ],
   "source": [
    "plot_roc_curve(fpr_dt_train, tpr_dt_train)"
   ]
  },
  {
   "cell_type": "code",
   "execution_count": 138,
   "metadata": {
    "colab": {
     "base_uri": "https://localhost:8080/",
     "height": 295
    },
    "id": "ReaKBJmCZyNw",
    "outputId": "79cd1a4d-a41a-42fd-a8b3-c90c37232760"
   },
   "outputs": [
    {
     "data": {
      "image/png": "[encoded data removed]",
      "text/plain": [
       "<Figure size 432x288 with 1 Axes>"
      ]
     },
     "metadata": {
      "needs_background": "light"
     },
     "output_type": "display_data"
    }
   ],
   "source": [
    "plot_roc_curve(fpr_dt_test, tpr_dt_test)"
   ]
  },
  {
   "cell_type": "code",
   "execution_count": 129,
   "metadata": {
    "colab": {
     "base_uri": "https://localhost:8080/"
    },
    "id": "5YjO28Mz6a55",
    "outputId": "e7c253b5-7b77-4578-86f7-d761dee8090b"
   },
   "outputs": [
    {
     "name": "stdout",
     "output_type": "stream",
     "text": [
      "re_call_Rf_train:- 0.9998897889458312\n",
      "########################################\n",
      "precision_Rf_train:- 0.999669439700292\n",
      "########################################\n",
      "f1_Rf_train:- 0.9997796021819384\n",
      "########################################\n",
      "Classifictioan Report Train:-                precision    recall  f1-score   support\n",
      "\n",
      "           0       1.00      1.00      1.00     18147\n",
      "           1       1.00      1.00      1.00     18147\n",
      "\n",
      "    accuracy                           1.00     36294\n",
      "   macro avg       1.00      1.00      1.00     36294\n",
      "weighted avg       1.00      1.00      1.00     36294\n",
      "\n",
      "########################################\n",
      "Accuracy_Rf_train:- 0.9997795778916625\n",
      "########################################\n",
      "Confusion Matrix Train:- [[18141     6]\n",
      " [    2 18145]]\n",
      "########################################\n",
      "col_0      0      1\n",
      "row_0              \n",
      "0      18141      6\n",
      "1          2  18145\n",
      "########################################\n",
      "re_call_Rf_test:- 0.6399474375821288\n",
      "########################################\n",
      "precision_Rf_test:- 0.838691159586682\n",
      "########################################\n",
      "f1_Rf_test:- 0.7259627329192546\n",
      "########################################\n",
      "Classifictioan Report Test:-                precision    recall  f1-score   support\n",
      "\n",
      "           0       0.71      0.88      0.78      4566\n",
      "           1       0.84      0.64      0.73      4566\n",
      "\n",
      "    accuracy                           0.76      9132\n",
      "   macro avg       0.77      0.76      0.75      9132\n",
      "weighted avg       0.77      0.76      0.75      9132\n",
      "\n",
      "########################################\n",
      "Accuracy_Rf_test:- 0.7584318878668419\n",
      "########################################\n",
      "Confusion Matrix Test:- [[4004  562]\n",
      " [1644 2922]]\n",
      "########################################\n",
      "col_0     0     1\n",
      "row_0            \n",
      "0      4004   562\n",
      "1      1644  2922\n",
      "ROC-AUC Score: 0.7584318878668419\n",
      "XGB train roc-auc: 0.9997795778916627\n",
      "XGB test roc-auc: 0.7584318878668419\n"
     ]
    }
   ],
   "source": [
    "#Random Forest\n",
    "Rf=RandomForestClassifier()\n",
    "Rf.fit(X_train,y_train)\n",
    "y_pred_Rf_train=Rf.predict(X_train)\n",
    "y_pred_Rf_test=Rf.predict(X_test)\n",
    "Accuracy_Rf_train=accuracy_score(y_train,y_pred_Rf_train)\n",
    "cm_Rf_train = confusion_matrix(y_train, y_pred_Rf_train)\n",
    "cr_Rf_train=classification_report(y_train,y_pred_Rf_train)\n",
    "re_call_Rf_train=recall_score(y_train,y_pred_Rf_train)\n",
    "precision_Rf_train=precision_score(y_train,y_pred_Rf_train)\n",
    "f1_Rf_train=f1_score(y_train,y_pred_Rf_train)\n",
    "#==========================================================\n",
    "Accuracy_Rf_test=accuracy_score(y_test,y_pred_Rf_test)\n",
    "cm_Rf_test= confusion_matrix(y_test, y_pred_Rf_test)\n",
    "cr_Rf_test=classification_report(y_test,y_pred_Rf_test)\n",
    "re_call_Rf_test=recall_score(y_test,y_pred_Rf_test)\n",
    "precision_Rf_test=precision_score(y_test,y_pred_Rf_test)\n",
    "f1_Rf_test=f1_score(y_test,y_pred_Rf_test)\n",
    "#=========================================================\n",
    "print(\"re_call_Rf_train:-\",re_call_Rf_train)\n",
    "print(\"#\"*40)\n",
    "print(\"precision_Rf_train:-\",precision_Rf_train)\n",
    "print(\"#\"*40)\n",
    "print(\"f1_Rf_train:-\",f1_Rf_train)\n",
    "print(\"#\"*40)\n",
    "print(\"Classifictioan Report Train:- \",cr_Rf_train)\n",
    "print(\"#\"*40)\n",
    "print(\"Accuracy_Rf_train:-\",Accuracy_Rf_train)\n",
    "print(\"#\"*40)\n",
    "print(\"Confusion Matrix Train:-\",cm_Rf_train)\n",
    "print(\"#\"*40)\n",
    "print(pd.crosstab(y_train,y_pred_Rf_train))\n",
    "print(\"#\"*40)\n",
    "print(\"re_call_Rf_test:-\",re_call_Rf_test)\n",
    "print(\"#\"*40)\n",
    "print(\"precision_Rf_test:-\",precision_Rf_test)\n",
    "print(\"#\"*40)\n",
    "print(\"f1_Rf_test:-\",f1_Rf_test)\n",
    "print(\"#\"*40)\n",
    "print(\"Classifictioan Report Test:- \",cr_Rf_test)\n",
    "print(\"#\"*40)\n",
    "print(\"Accuracy_Rf_test:-\",Accuracy_Rf_test)\n",
    "print(\"#\"*40)\n",
    "print(\"Confusion Matrix Test:-\",cm_Rf_test)\n",
    "print(\"#\"*40)\n",
    "print(pd.crosstab(y_test,y_pred_Rf_test))\n",
    "#ROC-AUC score\n",
    "auc_score = roc_auc_score(y_test,y_pred_Rf_test)\n",
    "print('ROC-AUC Score:',auc_score)\n",
    "print('XGB train roc-auc: {}'.format(roc_auc_score(y_train,y_pred_Rf_train)))\n",
    "print('XGB test roc-auc: {}'.format(roc_auc_score(y_test,y_pred_Rf_test)))\n"
   ]
  },
  {
   "cell_type": "code",
   "execution_count": 24,
   "metadata": {
    "colab": {
     "base_uri": "https://localhost:8080/"
    },
    "id": "A13VBHf451x8",
    "outputId": "d903a99f-533d-44bb-9089-a7d667a81a44"
   },
   "outputs": [
    {
     "name": "stdout",
     "output_type": "stream",
     "text": [
      "Looking in indexes: https://pypi.org/simple, https://us-python.pkg.dev/colab-wheels/public/simple/\n",
      "Collecting optuna\n",
      "  Downloading optuna-3.1.0-py3-none-any.whl (365 kB)\n",
      "\u001b[2K     \u001b[90m━━━━━━━━━━━━━━━━━━━━━━━━━━━━━━━━━━━━━━\u001b[0m \u001b[32m365.3/365.3 KB\u001b[0m \u001b[31m17.8 MB/s\u001b[0m eta \u001b[36m0:00:00\u001b[0m\n",
      "\u001b[?25hRequirement already satisfied: tqdm in /usr/local/lib/python3.8/dist-packages (from optuna) (4.64.1)\n",
      "Collecting cmaes>=0.9.1\n",
      "  Downloading cmaes-0.9.1-py3-none-any.whl (21 kB)\n",
      "Collecting alembic>=1.5.0\n",
      "  Downloading alembic-1.9.2-py3-none-any.whl (210 kB)\n",
      "\u001b[2K     \u001b[90m━━━━━━━━━━━━━━━━━━━━━━━━━━━━━━━━━━━━━━\u001b[0m \u001b[32m210.6/210.6 KB\u001b[0m \u001b[31m28.5 MB/s\u001b[0m eta \u001b[36m0:00:00\u001b[0m\n",
      "\u001b[?25hRequirement already satisfied: PyYAML in /usr/local/lib/python3.8/dist-packages (from optuna) (6.0)\n",
      "Requirement already satisfied: packaging>=20.0 in /usr/local/lib/python3.8/dist-packages (from optuna) (21.3)\n",
      "Collecting colorlog\n",
      "  Downloading colorlog-6.7.0-py2.py3-none-any.whl (11 kB)\n",
      "Requirement already satisfied: sqlalchemy>=1.3.0 in /usr/local/lib/python3.8/dist-packages (from optuna) (1.4.46)\n",
      "Requirement already satisfied: numpy in /usr/local/lib/python3.8/dist-packages (from optuna) (1.21.6)\n",
      "Collecting Mako\n",
      "  Downloading Mako-1.2.4-py3-none-any.whl (78 kB)\n",
      "\u001b[2K     \u001b[90m━━━━━━━━━━━━━━━━━━━━━━━━━━━━━━━━━━━━━━━━\u001b[0m \u001b[32m78.7/78.7 KB\u001b[0m \u001b[31m12.3 MB/s\u001b[0m eta \u001b[36m0:00:00\u001b[0m\n",
      "\u001b[?25hRequirement already satisfied: importlib-metadata in /usr/local/lib/python3.8/dist-packages (from alembic>=1.5.0->optuna) (6.0.0)\n",
      "Requirement already satisfied: importlib-resources in /usr/local/lib/python3.8/dist-packages (from alembic>=1.5.0->optuna) (5.10.2)\n",
      "Requirement already satisfied: pyparsing!=3.0.5,>=2.0.2 in /usr/local/lib/python3.8/dist-packages (from packaging>=20.0->optuna) (3.0.9)\n",
      "Requirement already satisfied: greenlet!=0.4.17 in /usr/local/lib/python3.8/dist-packages (from sqlalchemy>=1.3.0->optuna) (2.0.1)\n",
      "Requirement already satisfied: zipp>=0.5 in /usr/local/lib/python3.8/dist-packages (from importlib-metadata->alembic>=1.5.0->optuna) (3.11.0)\n",
      "Requirement already satisfied: MarkupSafe>=0.9.2 in /usr/local/lib/python3.8/dist-packages (from Mako->alembic>=1.5.0->optuna) (2.0.1)\n",
      "Installing collected packages: Mako, colorlog, cmaes, alembic, optuna\n",
      "Successfully installed Mako-1.2.4 alembic-1.9.2 cmaes-0.9.1 colorlog-6.7.0 optuna-3.1.0\n"
     ]
    }
   ],
   "source": [
    "pip install optuna"
   ]
  },
  {
   "cell_type": "code",
   "execution_count": 32,
   "metadata": {
    "colab": {
     "base_uri": "https://localhost:8080/"
    },
    "id": "RHKllukq6bD3",
    "outputId": "efa935eb-7c7b-4385-baa8-46bf85d236c1"
   },
   "outputs": [
    {
     "name": "stderr",
     "output_type": "stream",
     "text": [
      "\u001b[32m[I 2023-01-31 18:27:51,737]\u001b[0m A new study created in memory with name: no-name-bb168f8b-ae83-4921-a760-c1a390ad6b54\u001b[0m\n",
      "\u001b[32m[I 2023-01-31 18:30:07,826]\u001b[0m Trial 0 finished with value: -0.8198333333333334 and parameters: {'n_estimators': 191, 'max_depth': 9, 'min_samples_split': 5, 'min_samples_leaf': 4, 'max_features': 0.8970649251353598}. Best is trial 0 with value: -0.8198333333333334.\u001b[0m\n",
      "\u001b[32m[I 2023-01-31 18:30:32,478]\u001b[0m Trial 1 finished with value: -0.8212666666666667 and parameters: {'n_estimators': 118, 'max_depth': 4, 'min_samples_split': 8, 'min_samples_leaf': 1, 'max_features': 0.4561778597699836}. Best is trial 1 with value: -0.8212666666666667.\u001b[0m\n",
      "\u001b[32m[I 2023-01-31 18:32:29,347]\u001b[0m Trial 2 finished with value: -0.8199 and parameters: {'n_estimators': 465, 'max_depth': 10, 'min_samples_split': 8, 'min_samples_leaf': 8, 'max_features': 0.24343478510301333}. Best is trial 1 with value: -0.8212666666666667.\u001b[0m\n",
      "\u001b[32m[I 2023-01-31 18:34:15,332]\u001b[0m Trial 3 finished with value: -0.82 and parameters: {'n_estimators': 487, 'max_depth': 3, 'min_samples_split': 6, 'min_samples_leaf': 9, 'max_features': 0.7311014998361962}. Best is trial 1 with value: -0.8212666666666667.\u001b[0m\n",
      "\u001b[32m[I 2023-01-31 18:34:40,840]\u001b[0m Trial 4 finished with value: -0.8205 and parameters: {'n_estimators': 89, 'max_depth': 10, 'min_samples_split': 9, 'min_samples_leaf': 9, 'max_features': 0.3204613238111107}. Best is trial 1 with value: -0.8212666666666667.\u001b[0m\n",
      "\u001b[32m[I 2023-01-31 18:35:25,447]\u001b[0m Trial 5 finished with value: -0.8210333333333333 and parameters: {'n_estimators': 293, 'max_depth': 5, 'min_samples_split': 5, 'min_samples_leaf': 2, 'max_features': 0.3377709111147315}. Best is trial 1 with value: -0.8212666666666667.\u001b[0m\n",
      "\u001b[32m[I 2023-01-31 18:37:34,034]\u001b[0m Trial 6 finished with value: -0.8211 and parameters: {'n_estimators': 493, 'max_depth': 5, 'min_samples_split': 7, 'min_samples_leaf': 5, 'max_features': 0.6017679905317976}. Best is trial 1 with value: -0.8212666666666667.\u001b[0m\n",
      "\u001b[32m[I 2023-01-31 18:39:35,595]\u001b[0m Trial 7 finished with value: -0.8198000000000001 and parameters: {'n_estimators': 359, 'max_depth': 10, 'min_samples_split': 4, 'min_samples_leaf': 1, 'max_features': 0.41926555460161785}. Best is trial 1 with value: -0.8212666666666667.\u001b[0m\n",
      "\u001b[32m[I 2023-01-31 18:42:32,139]\u001b[0m Trial 8 finished with value: -0.8198333333333334 and parameters: {'n_estimators': 475, 'max_depth': 10, 'min_samples_split': 2, 'min_samples_leaf': 6, 'max_features': 0.434882361278638}. Best is trial 1 with value: -0.8212666666666667.\u001b[0m\n",
      "\u001b[32m[I 2023-01-31 18:42:55,905]\u001b[0m Trial 9 finished with value: -0.8061666666666667 and parameters: {'n_estimators': 424, 'max_depth': 2, 'min_samples_split': 7, 'min_samples_leaf': 7, 'max_features': 0.2197458578560493}. Best is trial 1 with value: -0.8212666666666667.\u001b[0m\n"
     ]
    }
   ],
   "source": [
    "import optuna\n",
    "from sklearn.ensemble import RandomForestClassifier\n",
    "from sklearn.model_selection import cross_val_score\n",
    "\n",
    "df\n",
    "X = df.drop('Default', axis = 1)\n",
    "y=df['Default']\n",
    "\n",
    "def objective(trial):\n",
    "    n_estimators = trial.suggest_int('n_estimators', 50, 500)\n",
    "    max_depth = trial.suggest_int('max_depth', 2, 10)\n",
    "    min_samples_split = trial.suggest_int('min_samples_split', 2, 10)\n",
    "    min_samples_leaf = trial.suggest_int('min_samples_leaf', 1, 10)\n",
    "    max_features = trial.suggest_uniform('max_features', 0.1, 1.0)\n",
    "    \n",
    "    model = RandomForestClassifier(n_estimators=n_estimators, max_depth=max_depth,\n",
    "                                   min_samples_split=min_samples_split,\n",
    "                                   min_samples_leaf=min_samples_leaf,\n",
    "                                   max_features=max_features)\n",
    "    \n",
    "    return -1.0 * cross_val_score(model, X, y, cv=5, scoring='accuracy').mean()\n",
    "\n",
    "study = optuna.create_study()\n",
    "study.optimize(objective, n_trials=10)\n",
    "\n",
    "best_params = study.best_params\n",
    "best_value = study.best_value"
   ]
  },
  {
   "cell_type": "code",
   "execution_count": 130,
   "metadata": {
    "colab": {
     "base_uri": "https://localhost:8080/"
    },
    "id": "JtTqOTXqZOmM",
    "outputId": "9ef190b9-4832-42a2-e1ab-1f64bf4a5c73"
   },
   "outputs": [
    {
     "name": "stdout",
     "output_type": "stream",
     "text": [
      "re_call_Rf_train:- 0.5867085468672508\n",
      "########################################\n",
      "precision_Rf_train:- 0.7851769911504425\n",
      "########################################\n",
      "f1_Rf_train:- 0.6715867158671587\n",
      "########################################\n",
      "Classifictioan Report Train:-                precision    recall  f1-score   support\n",
      "\n",
      "           0       0.67      0.84      0.75     18147\n",
      "           1       0.79      0.59      0.67     18147\n",
      "\n",
      "    accuracy                           0.71     36294\n",
      "   macro avg       0.73      0.71      0.71     36294\n",
      "weighted avg       0.73      0.71      0.71     36294\n",
      "\n",
      "########################################\n",
      "Accuracy_Rf_train:- 0.7130930732352455\n",
      "########################################\n",
      "Confusion Matrix Train:- [[15234  2913]\n",
      " [ 7500 10647]]\n",
      "########################################\n",
      "col_0      0      1\n",
      "row_0              \n",
      "0      15234   2913\n",
      "1       7500  10647\n",
      "########################################\n",
      "re_call_Rf_test:- 0.5915462111257118\n",
      "########################################\n",
      "precision_Rf_test:- 0.776595744680851\n",
      "########################################\n",
      "f1_Rf_test:- 0.6715564395822974\n",
      "########################################\n",
      "Classifictioan Report Test:-                precision    recall  f1-score   support\n",
      "\n",
      "           0       0.67      0.83      0.74      4566\n",
      "           1       0.78      0.59      0.67      4566\n",
      "\n",
      "    accuracy                           0.71      9132\n",
      "   macro avg       0.72      0.71      0.71      9132\n",
      "weighted avg       0.72      0.71      0.71      9132\n",
      "\n",
      "########################################\n",
      "Accuracy_Rf_test:- 0.7106876916338152\n",
      "########################################\n",
      "Confusion Matrix Test:- [[3789  777]\n",
      " [1865 2701]]\n",
      "########################################\n",
      "col_0     0     1\n",
      "row_0            \n",
      "0      3789   777\n",
      "1      1865  2701\n",
      "ROC-AUC Score: 0.7106876916338152\n",
      "XGB train roc-auc: 0.7130930732352455\n",
      "XGB test roc-auc: 0.7106876916338152\n"
     ]
    }
   ],
   "source": [
    "#Random Forest\n",
    "Rf=RandomForestClassifier(n_estimators= 424, max_depth= 2, min_samples_split= 7, min_samples_leaf= 7, max_features= 0.2197458578560493)\n",
    "Rf.fit(X_train,y_train)\n",
    "y_pred_Rf_train=Rf.predict(X_train)\n",
    "y_pred_Rf_test=Rf.predict(X_test)\n",
    "Accuracy_Rf_train=accuracy_score(y_train,y_pred_Rf_train)\n",
    "cm_Rf_train = confusion_matrix(y_train, y_pred_Rf_train)\n",
    "cr_Rf_train=classification_report(y_train,y_pred_Rf_train)\n",
    "re_call_Rf_train=recall_score(y_train,y_pred_Rf_train)\n",
    "precision_Rf_train=precision_score(y_train,y_pred_Rf_train)\n",
    "f1_Rf_train=f1_score(y_train,y_pred_Rf_train)\n",
    "#==========================================================\n",
    "Accuracy_Rf_test=accuracy_score(y_test,y_pred_Rf_test)\n",
    "cm_Rf_test= confusion_matrix(y_test, y_pred_Rf_test)\n",
    "cr_Rf_test=classification_report(y_test,y_pred_Rf_test)\n",
    "re_call_Rf_test=recall_score(y_test,y_pred_Rf_test)\n",
    "precision_Rf_test=precision_score(y_test,y_pred_Rf_test)\n",
    "f1_Rf_test=f1_score(y_test,y_pred_Rf_test)\n",
    "#=========================================================\n",
    "print(\"re_call_Rf_train:-\",re_call_Rf_train)\n",
    "print(\"#\"*40)\n",
    "print(\"precision_Rf_train:-\",precision_Rf_train)\n",
    "print(\"#\"*40)\n",
    "print(\"f1_Rf_train:-\",f1_Rf_train)\n",
    "print(\"#\"*40)\n",
    "print(\"Classifictioan Report Train:- \",cr_Rf_train)\n",
    "print(\"#\"*40)\n",
    "print(\"Accuracy_Rf_train:-\",Accuracy_Rf_train)\n",
    "print(\"#\"*40)\n",
    "print(\"Confusion Matrix Train:-\",cm_Rf_train)\n",
    "print(\"#\"*40)\n",
    "print(pd.crosstab(y_train,y_pred_Rf_train))\n",
    "print(\"#\"*40)\n",
    "print(\"re_call_Rf_test:-\",re_call_Rf_test)\n",
    "print(\"#\"*40)\n",
    "print(\"precision_Rf_test:-\",precision_Rf_test)\n",
    "print(\"#\"*40)\n",
    "print(\"f1_Rf_test:-\",f1_Rf_test)\n",
    "print(\"#\"*40)\n",
    "print(\"Classifictioan Report Test:- \",cr_Rf_test)\n",
    "print(\"#\"*40)\n",
    "print(\"Accuracy_Rf_test:-\",Accuracy_Rf_test)\n",
    "print(\"#\"*40)\n",
    "print(\"Confusion Matrix Test:-\",cm_Rf_test)\n",
    "print(\"#\"*40)\n",
    "print(pd.crosstab(y_test,y_pred_Rf_test))\n",
    "#ROC-AUC score\n",
    "auc_score = roc_auc_score(y_test,y_pred_Rf_test)\n",
    "print('ROC-AUC Score:',auc_score)\n",
    "print('XGB train roc-auc: {}'.format(roc_auc_score(y_train,y_pred_Rf_train)))\n",
    "print('XGB test roc-auc: {}'.format(roc_auc_score(y_test,y_pred_Rf_test)))"
   ]
  },
  {
   "cell_type": "code",
   "execution_count": 131,
   "metadata": {
    "id": "mG4FIZg6YGAj"
   },
   "outputs": [],
   "source": [
    "#### Calculate the ROC Curve Random Forest\n",
    "fpr_Rf_train, tpr_Rf_train, thresholds_Rf_train = roc_curve(y_train,y_pred_Rf_train)\n",
    "fpr_Rf_test, tpr_Rf_test, thresholds_Rf_test = roc_curve(y_test,y_pred_Rf_test)"
   ]
  },
  {
   "cell_type": "code",
   "execution_count": 132,
   "metadata": {
    "id": "XtEvVUqyYF0I"
   },
   "outputs": [],
   "source": [
    "def plot_roc_curve(fpr, tpr):\n",
    "    plt.plot(fpr, tpr, color='orange', label='ROC')\n",
    "    plt.plot([0, 1], [0, 1], color='darkblue', linestyle='--')\n",
    "    plt.xlabel('False Positive Rate')\n",
    "    plt.ylabel('True Positive Rate')\n",
    "    plt.title('Receiver Operating Characteristic (ROC) Curve')\n",
    "    plt.legend()\n",
    "    plt.show()"
   ]
  },
  {
   "cell_type": "code",
   "execution_count": 133,
   "metadata": {
    "colab": {
     "base_uri": "https://localhost:8080/",
     "height": 295
    },
    "id": "9vyoV2tOYXS6",
    "outputId": "b1a97cec-2476-41b4-a2df-d361eb9be997"
   },
   "outputs": [
    {
     "data": {
      "image/png": "[encoded data removed]",
      "text/plain": [
       "<Figure size 432x288 with 1 Axes>"
      ]
     },
     "metadata": {
      "needs_background": "light"
     },
     "output_type": "display_data"
    }
   ],
   "source": [
    "plot_roc_curve(fpr_Rf_train, tpr_Rf_train)"
   ]
  },
  {
   "cell_type": "code",
   "execution_count": 134,
   "metadata": {
    "colab": {
     "base_uri": "https://localhost:8080/",
     "height": 295
    },
    "id": "gGDE0bPrYFei",
    "outputId": "65ee3a54-d903-423a-effb-083b25ba0f70"
   },
   "outputs": [
    {
     "data": {
      "image/png": "[encoded data removed]",
      "text/plain": [
       "<Figure size 432x288 with 1 Axes>"
      ]
     },
     "metadata": {
      "needs_background": "light"
     },
     "output_type": "display_data"
    }
   ],
   "source": [
    "plot_roc_curve(fpr_Rf_test, tpr_Rf_test)"
   ]
  },
  {
   "cell_type": "code",
   "execution_count": 32,
   "metadata": {
    "colab": {
     "base_uri": "https://localhost:8080/"
    },
    "id": "IGXe--SjJUqL",
    "outputId": "bbfa206a-3f97-4b8d-d971-ce0a9ef69751"
   },
   "outputs": [
    {
     "name": "stdout",
     "output_type": "stream",
     "text": [
      "re_call_xgb_train:- 0.875185899201322\n",
      "########################################\n",
      "precision_xgb_train:- 0.9606989539875446\n",
      "########################################\n",
      "f1_xgb_train:- 0.9159508848792299\n",
      "########################################\n",
      "Classifictioan Report Train:-                precision    recall  f1-score   support\n",
      "\n",
      "           0       0.89      0.96      0.92     18155\n",
      "           1       0.96      0.88      0.92     18155\n",
      "\n",
      "    accuracy                           0.92     36310\n",
      "   macro avg       0.92      0.92      0.92     36310\n",
      "weighted avg       0.92      0.92      0.92     36310\n",
      "\n",
      "########################################\n",
      "Accuracy_xgb_train:- 0.9196915450289177\n",
      "########################################\n",
      "Confusion Matrix Train:- [[17505   650]\n",
      " [ 2266 15889]]\n",
      "########################################\n",
      "col_0      0      1\n",
      "row_0              \n",
      "0      17505    650\n",
      "1       2266  15889\n",
      "########################################\n",
      "re_call_xgb_test:- 0.8190204260926861\n",
      "########################################\n",
      "precision_xgb_test:- 0.9166666666666666\n",
      "########################################\n",
      "f1_xgb_test:- 0.8650968565131655\n",
      "########################################\n",
      "Classifictioan Report Test:-                precision    recall  f1-score   support\n",
      "\n",
      "           0       0.84      0.93      0.88      4553\n",
      "           1       0.92      0.82      0.87      4553\n",
      "\n",
      "    accuracy                           0.87      9106\n",
      "   macro avg       0.88      0.87      0.87      9106\n",
      "weighted avg       0.88      0.87      0.87      9106\n",
      "\n",
      "########################################\n",
      "Accuracy_Rf_test:- 0.8722820118603118\n",
      "########################################\n",
      "Confusion Matrix Test:- [[4214  339]\n",
      " [ 824 3729]]\n",
      "########################################\n",
      "col_0     0     1\n",
      "row_0            \n",
      "0      4214   339\n",
      "1       824  3729\n",
      "ROC-AUC Score: 0.8722820118603118\n",
      "XGB train roc-auc: 0.9196915450289176\n",
      "XGB test roc-auc: 0.8722820118603118\n"
     ]
    }
   ],
   "source": [
    "# Xgboost Classifier\n",
    "xgb=XGBClassifier()\n",
    "xgb.fit(X_train,y_train)\n",
    "y_pred_xgb_train=xgb.predict(X_train)\n",
    "y_pred_xgb_test=xgb.predict(X_test)\n",
    "Accuracy_xgb_train=accuracy_score(y_train,y_pred_xgb_train)\n",
    "cm_xgb_train = confusion_matrix(y_train, y_pred_xgb_train)\n",
    "cr_xgb_train=classification_report(y_train,y_pred_xgb_train)\n",
    "re_call_xgb_train=recall_score(y_train,y_pred_xgb_train)\n",
    "precision_xgb_train=precision_score(y_train,y_pred_xgb_train)\n",
    "f1_xgb_train=f1_score(y_train,y_pred_xgb_train)\n",
    "#==========================================================\n",
    "Accuracy_xgb_test=accuracy_score(y_test,y_pred_xgb_test)\n",
    "cm_xgb_test= confusion_matrix(y_test, y_pred_xgb_test)\n",
    "cr_xgb_test=classification_report(y_test,y_pred_xgb_test)\n",
    "re_call_xgb_test=recall_score(y_test,y_pred_xgb_test)\n",
    "precision_xgb_test=precision_score(y_test,y_pred_xgb_test)\n",
    "f1_xgb_test=f1_score(y_test,y_pred_xgb_test)\n",
    "#=========================================================\n",
    "print(\"re_call_xgb_train:-\",re_call_xgb_train)\n",
    "print(\"#\"*40)\n",
    "print(\"precision_xgb_train:-\",precision_xgb_train)\n",
    "print(\"#\"*40)\n",
    "print(\"f1_xgb_train:-\",f1_xgb_train)\n",
    "print(\"#\"*40)\n",
    "print(\"Classifictioan Report Train:- \",cr_xgb_train)\n",
    "print(\"#\"*40)\n",
    "print(\"Accuracy_xgb_train:-\",Accuracy_xgb_train)\n",
    "print(\"#\"*40)\n",
    "print(\"Confusion Matrix Train:-\",cm_xgb_train)\n",
    "print(\"#\"*40)\n",
    "print(pd.crosstab(y_train,y_pred_xgb_train))\n",
    "print(\"#\"*40)\n",
    "print(\"re_call_xgb_test:-\",re_call_xgb_test)\n",
    "print(\"#\"*40)\n",
    "print(\"precision_xgb_test:-\",precision_xgb_test)\n",
    "print(\"#\"*40)\n",
    "print(\"f1_xgb_test:-\",f1_xgb_test)\n",
    "print(\"#\"*40)\n",
    "print(\"Classifictioan Report Test:- \",cr_xgb_test)\n",
    "print(\"#\"*40)\n",
    "print(\"Accuracy_Rf_test:-\",Accuracy_xgb_test)\n",
    "print(\"#\"*40)\n",
    "print(\"Confusion Matrix Test:-\",cm_xgb_test)\n",
    "print(\"#\"*40)\n",
    "print(pd.crosstab(y_test,y_pred_xgb_test))\n",
    "#ROC-AUC score\n",
    "auc_score = roc_auc_score(y_test,y_pred_xgb_test)\n",
    "print('ROC-AUC Score:',auc_score)\n",
    "print('XGB train roc-auc: {}'.format(roc_auc_score(y_train,y_pred_xgb_train)))\n",
    "print('XGB test roc-auc: {}'.format(roc_auc_score(y_test,y_pred_xgb_test)))"
   ]
  },
  {
   "cell_type": "code",
   "execution_count": 81,
   "metadata": {
    "colab": {
     "base_uri": "https://localhost:8080/"
    },
    "id": "_EomP2b6bGr_",
    "outputId": "3015a866-2eb6-433e-8c55-3bce017d2d8f"
   },
   "outputs": [
    {
     "name": "stdout",
     "output_type": "stream",
     "text": [
      "Fitting 5 folds for each of 10 candidates, totalling 50 fits\n"
     ]
    },
    {
     "data": {
      "text/plain": [
       "RandomizedSearchCV(estimator=XGBClassifier(), n_jobs=-1,\n",
       "                   param_distributions={'max_depth': range(3, 11),\n",
       "                                        'n_estimators': [50, 100, 110, 120,\n",
       "                                                         130],\n",
       "                                        'random_state': [0, 50, 100]},\n",
       "                   scoring='roc_auc', verbose=10)"
      ]
     },
     "execution_count": 81,
     "metadata": {},
     "output_type": "execute_result"
    }
   ],
   "source": [
    "import xgboost as xgb\n",
    "from sklearn.model_selection import RandomizedSearchCV\n",
    "from sklearn.datasets import make_classification\n",
    "X_train, y_train = make_classification(n_features=4, n_informative=2,\n",
    "                           n_redundant=0, n_clusters_per_class=1)\n",
    "xgboost =  xgb.XGBClassifier(objective='binary:logistic')\n",
    "param_dist = {\"n_estimators\":  [50,100,110, 120,130],\n",
    "              \"max_depth\": range(3, 11, 1),\n",
    "              \"random_state\":[0,50,100]}\n",
    "\n",
    "model=RandomizedSearchCV(estimator=xgboost,param_distributions=param_dist,scoring='roc_auc',verbose=10,n_jobs=-1)\n",
    "model.fit(X_train,y_train)"
   ]
  },
  {
   "cell_type": "code",
   "execution_count": 82,
   "metadata": {
    "colab": {
     "base_uri": "https://localhost:8080/"
    },
    "id": "HotHsmo86ksm",
    "outputId": "3c5927e9-f978-4ba7-f76d-49c9d3e5a837"
   },
   "outputs": [
    {
     "data": {
      "text/plain": [
       "{'random_state': 100, 'n_estimators': 130, 'max_depth': 7}"
      ]
     },
     "execution_count": 82,
     "metadata": {},
     "output_type": "execute_result"
    }
   ],
   "source": [
    "model.best_params_"
   ]
  },
  {
   "cell_type": "code",
   "execution_count": 33,
   "metadata": {
    "colab": {
     "base_uri": "https://localhost:8080/"
    },
    "id": "ZkUE9qu9Vvmi",
    "outputId": "aca3f0a3-dc65-4cee-99bc-4ace6a077f60"
   },
   "outputs": [
    {
     "name": "stdout",
     "output_type": "stream",
     "text": [
      "re_call_xgb_train:- 0.9194161388047369\n",
      "########################################\n",
      "precision_xgb_train:- 0.9795199812217593\n",
      "########################################\n",
      "f1_xgb_train:- 0.9485168769178316\n",
      "########################################\n",
      "Classifictioan Report Train:-                precision    recall  f1-score   support\n",
      "\n",
      "           0       0.92      0.98      0.95     18155\n",
      "           1       0.98      0.92      0.95     18155\n",
      "\n",
      "    accuracy                           0.95     36310\n",
      "   macro avg       0.95      0.95      0.95     36310\n",
      "weighted avg       0.95      0.95      0.95     36310\n",
      "\n",
      "########################################\n",
      "Accuracy_xgb_train:- 0.9500963921784632\n",
      "########################################\n",
      "Confusion Matrix Train:- [[17806   349]\n",
      " [ 1463 16692]]\n",
      "########################################\n",
      "col_0      0      1\n",
      "row_0              \n",
      "0      17806    349\n",
      "1       1463  16692\n",
      "########################################\n",
      "re_call_xgb_test:- 0.813529540962003\n",
      "########################################\n",
      "precision_xgb_test:- 0.9145679012345679\n",
      "########################################\n",
      "f1_xgb_test:- 0.8610949668720214\n",
      "########################################\n",
      "Classifictioan Report Test:-                precision    recall  f1-score   support\n",
      "\n",
      "           0       0.83      0.92      0.88      4553\n",
      "           1       0.91      0.81      0.86      4553\n",
      "\n",
      "    accuracy                           0.87      9106\n",
      "   macro avg       0.87      0.87      0.87      9106\n",
      "weighted avg       0.87      0.87      0.87      9106\n",
      "\n",
      "########################################\n",
      "Accuracy_Rf_test:- 0.8687678453766747\n",
      "########################################\n",
      "Confusion Matrix Test:- [[4207  346]\n",
      " [ 849 3704]]\n",
      "########################################\n",
      "col_0     0     1\n",
      "row_0            \n",
      "0      4207   346\n",
      "1       849  3704\n",
      "ROC-AUC Score: 0.8687678453766747\n",
      "XGB train roc-auc: 0.9500963921784633\n",
      "XGB test roc-auc: 0.8687678453766747\n"
     ]
    }
   ],
   "source": [
    "# Xgboost Classifier\n",
    "xgb=XGBClassifier(random_state=100, n_estimators= 130, max_depth= 7)\n",
    "xgb.fit(X_train,y_train)\n",
    "y_pred_xgb_train=xgb.predict(X_train)\n",
    "y_pred_xgb_test=xgb.predict(X_test)\n",
    "Accuracy_xgb_train=accuracy_score(y_train,y_pred_xgb_train)\n",
    "cm_xgb_train = confusion_matrix(y_train, y_pred_xgb_train)\n",
    "cr_xgb_train=classification_report(y_train,y_pred_xgb_train)\n",
    "re_call_xgb_train=recall_score(y_train,y_pred_xgb_train)\n",
    "precision_xgb_train=precision_score(y_train,y_pred_xgb_train)\n",
    "f1_xgb_train=f1_score(y_train,y_pred_xgb_train)\n",
    "#==========================================================\n",
    "Accuracy_xgb_test=accuracy_score(y_test,y_pred_xgb_test)\n",
    "cm_xgb_test= confusion_matrix(y_test, y_pred_xgb_test)\n",
    "cr_xgb_test=classification_report(y_test,y_pred_xgb_test)\n",
    "re_call_xgb_test=recall_score(y_test,y_pred_xgb_test)\n",
    "precision_xgb_test=precision_score(y_test,y_pred_xgb_test)\n",
    "f1_xgb_test=f1_score(y_test,y_pred_xgb_test)\n",
    "#=========================================================\n",
    "print(\"re_call_xgb_train:-\",re_call_xgb_train)\n",
    "print(\"#\"*40)\n",
    "print(\"precision_xgb_train:-\",precision_xgb_train)\n",
    "print(\"#\"*40)\n",
    "print(\"f1_xgb_train:-\",f1_xgb_train)\n",
    "print(\"#\"*40)\n",
    "print(\"Classifictioan Report Train:- \",cr_xgb_train)\n",
    "print(\"#\"*40)\n",
    "print(\"Accuracy_xgb_train:-\",Accuracy_xgb_train)\n",
    "print(\"#\"*40)\n",
    "print(\"Confusion Matrix Train:-\",cm_xgb_train)\n",
    "print(\"#\"*40)\n",
    "print(pd.crosstab(y_train,y_pred_xgb_train))\n",
    "print(\"#\"*40)\n",
    "print(\"re_call_xgb_test:-\",re_call_xgb_test)\n",
    "print(\"#\"*40)\n",
    "print(\"precision_xgb_test:-\",precision_xgb_test)\n",
    "print(\"#\"*40)\n",
    "print(\"f1_xgb_test:-\",f1_xgb_test)\n",
    "print(\"#\"*40)\n",
    "print(\"Classifictioan Report Test:- \",cr_xgb_test)\n",
    "print(\"#\"*40)\n",
    "print(\"Accuracy_xgb_test:-\",Accuracy_xgb_test)\n",
    "print(\"#\"*40)\n",
    "print(\"Confusion Matrix Test:-\",cm_xgb_test)\n",
    "print(\"#\"*40)\n",
    "print(pd.crosstab(y_test,y_pred_xgb_test))\n",
    "#ROC-AUC score\n",
    "auc_score = roc_auc_score(y_test,y_pred_xgb_test)\n",
    "print('ROC-AUC Score:',auc_score)\n",
    "print('XGB train roc-auc: {}'.format(roc_auc_score(y_train,y_pred_xgb_train)))\n",
    "print('XGB test roc-auc: {}'.format(roc_auc_score(y_test,y_pred_xgb_test)))"
   ]
  },
  {
   "cell_type": "code",
   "execution_count": 102,
   "metadata": {
    "id": "6eOj9YrFW5m5"
   },
   "outputs": [],
   "source": [
    "#### Calculate the ROC Curve Xgboost Classifier\n",
    "fpr_xbg_train, tpr_xbg_train, thresholds_xbg_train = roc_curve(y_train,y_pred_xgb_train)\n",
    "fpr_xbg_test, tpr_xbg_test, thresholds_xbg_test = roc_curve(y_test,y_pred_xgb_test)\n"
   ]
  },
  {
   "cell_type": "code",
   "execution_count": 103,
   "metadata": {
    "id": "wx6rJsh4W5zj"
   },
   "outputs": [],
   "source": [
    "def plot_roc_curve(fpr, tpr):\n",
    "    plt.plot(fpr, tpr, color='orange', label='ROC')\n",
    "    plt.plot([0, 1], [0, 1], color='darkblue', linestyle='--')\n",
    "    plt.xlabel('False Positive Rate')\n",
    "    plt.ylabel('True Positive Rate')\n",
    "    plt.title('Receiver Operating Characteristic (ROC) Curve')\n",
    "    plt.legend()\n",
    "    plt.show()"
   ]
  },
  {
   "cell_type": "code",
   "execution_count": 104,
   "metadata": {
    "colab": {
     "base_uri": "https://localhost:8080/",
     "height": 295
    },
    "id": "hI68rv6uW54p",
    "outputId": "86d49009-6d31-4546-dcdc-359bf59b19fc"
   },
   "outputs": [
    {
     "data": {
      "image/png": "[encoded data removed]",
      "text/plain": [
       "<Figure size 432x288 with 1 Axes>"
      ]
     },
     "metadata": {
      "needs_background": "light"
     },
     "output_type": "display_data"
    }
   ],
   "source": [
    "plot_roc_curve(fpr_xbg_train,tpr_xbg_train)"
   ]
  },
  {
   "cell_type": "code",
   "execution_count": 105,
   "metadata": {
    "colab": {
     "base_uri": "https://localhost:8080/",
     "height": 295
    },
    "id": "KwwhLy7PW58e",
    "outputId": "7ee53e4c-5d16-4dd8-dc62-d77a59d8cf87"
   },
   "outputs": [
    {
     "data": {
      "image/png": "[encoded data removed]",
      "text/plain": [
       "<Figure size 432x288 with 1 Axes>"
      ]
     },
     "metadata": {
      "needs_background": "light"
     },
     "output_type": "display_data"
    }
   ],
   "source": [
    "plot_roc_curve(fpr_xbg_test,tpr_xbg_test)"
   ]
  },
  {
   "cell_type": "markdown",
   "metadata": {
    "id": "6WTlyGNibWsc"
   },
   "source": [
    "* **Prediction with Logestic Regression with train accuracy score 70% and test accuracy score 70%**\n",
    "\n",
    "* **Prediction with Decision Tree  with train accuracy score 99% and test accuracy score 71%**\n",
    "\n",
    "* **Prediction with Random Forest with train accuracy score 99% and test accuracy score 75%**\n",
    "\n",
    "* **Prediction with xgboost Classifier with train accuracy score 95% and test accuracy score 86%**"
   ]
  },
  {
   "cell_type": "code",
   "execution_count": null,
   "metadata": {},
   "outputs": [],
   "source": []
  }
 ],
 "metadata": {
  "accelerator": "GPU",
  "colab": {
   "provenance": []
  },
  "gpuClass": "standard",
  "kernelspec": {
   "display_name": "Python 3 (ipykernel)",
   "language": "python",
   "name": "python3"
  },
  "language_info": {
   "codemirror_mode": {
    "name": "ipython",
    "version": 3
   },
   "file_extension": ".py",
   "mimetype": "text/x-python",
   "name": "python",
   "nbconvert_exporter": "python",
   "pygments_lexer": "ipython3",
   "version": "3.9.13"
  }
 },
 "nbformat": 4,
 "nbformat_minor": 1
}
